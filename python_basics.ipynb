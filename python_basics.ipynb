{
  "nbformat": 4,
  "nbformat_minor": 0,
  "metadata": {
    "colab": {
      "provenance": []
    },
    "kernelspec": {
      "name": "python3",
      "display_name": "Python 3"
    },
    "language_info": {
      "name": "python"
    }
  },
  "cells": [
    {
      "cell_type": "markdown",
      "source": [],
      "metadata": {
        "id": "BpTuP7YgD3jC"
      }
    },
    {
      "cell_type": "markdown",
      "source": [
        "1.What is Python, and why is it popular?\n",
        "- Python is a high-level programming language that enables communication between the user and the system. It is widely popular because:\n",
        "- It is easy to learn and has a simple, readable syntax compared to other programming languages.\n",
        "- It offers a vast collection of libraries, making it highly relevant across various fields, including data science, web development, automation, and artificial intelligence."
      ],
      "metadata": {
        "id": "L8ytxTPKO77c"
      }
    },
    {
      "cell_type": "markdown",
      "source": [
        "2.What is an interpreter in Python?\n",
        "- An interpreter in Python is a tool that translates and executes Python code line by line, converting it into a machine-readable format so that the computer can process it and display the output."
      ],
      "metadata": {
        "id": "_dVEcinwQANo"
      }
    },
    {
      "cell_type": "markdown",
      "source": [
        "3.What are pre-defined keywords in Python?\n",
        "- Keywords are reserved words in Python that have special meanings and cannot be used as identifiers (variable names, function names, etc.)."
      ],
      "metadata": {
        "id": "FEn0IAzKQgTB"
      }
    },
    {
      "cell_type": "markdown",
      "source": [
        "4. Can keywords be used as variable names?\n",
        "- No keyword cannot be used as variable names as it will result in syntax error."
      ],
      "metadata": {
        "id": "GPIhNG5bQ112"
      }
    },
    {
      "cell_type": "markdown",
      "source": [
        "5. What is mutability in Python?\n",
        "- Mutability in Python refers to whether a data type allows modifications after its creation. If a data type allows changes to its values without changing its identity, it is called mutable; otherwise, it is immutable."
      ],
      "metadata": {
        "id": "uxfgsLsTRXos"
      }
    },
    {
      "cell_type": "markdown",
      "source": [
        "6. Why are lists mutable, but tuples are immutable?\n",
        "- Lists are mutable because it allows to modify the list after the creation. But tuples are immutable because modification is not allowed in tuples."
      ],
      "metadata": {
        "id": "Obv84QGARz5M"
      }
    },
    {
      "cell_type": "markdown",
      "source": [
        "7. What is the difference between “==” and “is” operators in Python?\n",
        "- \"==\" is a comparison operator which checks whether two variables are equal or not.\n",
        "- \"is\" is identity operator which checks whether two variables refer to the same object in memory."
      ],
      "metadata": {
        "id": "-KVdAQNDSkaW"
      }
    },
    {
      "cell_type": "markdown",
      "source": [
        "8. What are logical operators in Python?\n",
        "-Logical operators in Python such as 'and','or' and 'not' are used to combine conditional statements and return boolean values (True or False)."
      ],
      "metadata": {
        "id": "W2F2F8KUUzTd"
      }
    },
    {
      "cell_type": "markdown",
      "source": [
        "9. What is type casting in Python?\n",
        "- Type casting, also referred to as type conversion, is the process of changing one data type to another in Python."
      ],
      "metadata": {
        "id": "IhE8MFLWVZ2C"
      }
    },
    {
      "cell_type": "markdown",
      "source": [
        "10. What is the difference between implicit and explicit type casting?\n",
        "- Implicit- In implicit typecasting python automatically converts the datatype into another datatype.\n",
        "- Explicit- In explicit typecasting python needs users involvement to  convert the variable data type into the required data type."
      ],
      "metadata": {
        "id": "x2Yvdim4VuGj"
      }
    },
    {
      "cell_type": "markdown",
      "source": [
        "11. What is the purpose of conditional statements in Python?\n",
        "- The purpose of conditional statements in Python is to allow the program to make decisions based on certain conditions given by the user ."
      ],
      "metadata": {
        "id": "ng5vJwhoWxmn"
      }
    },
    {
      "cell_type": "markdown",
      "source": [
        "12. How does the elif statement work?\n",
        "- The elif statement in Python is used to check multiple conditions after an initial if statement. It allows you to test several conditions sequentially, and if one condition evaluates to True, its corresponding code block will execute."
      ],
      "metadata": {
        "id": "I0FMHVuBXGvn"
      }
    },
    {
      "cell_type": "markdown",
      "source": [
        "13. What is the difference between for and while loops?\n",
        "- for loop-A for loop in Python is used to iterate over a sequence (such as a list, tuple, or string) for a specified number of times. It is ideal when the number of iterations is known in advance.\n",
        "- while loop-A while loop, on the other hand, repeatedly executes a block of code as long as a specified condition is True. It is typically used when the number of iterations is not known, and the loop runs until a condition is met or becomes False."
      ],
      "metadata": {
        "id": "2qnNgjDqXUWB"
      }
    },
    {
      "cell_type": "markdown",
      "source": [
        "14.Describe a scenario where a while loop is more suitable than a for loop?\n",
        "- If we are making a program to withdraw money from a bank account si in this scenario while loop will be suitable because we can make a condition in while loop such that a user can withdraw money from his account until his balance is greater than minimum account balance."
      ],
      "metadata": {
        "id": "SjAo-3oRXod2"
      }
    },
    {
      "cell_type": "code",
      "source": [
        "'''Write a Python program to print \"Hello, World!'''\n",
        "print(\"Hello, World!\")"
      ],
      "metadata": {
        "colab": {
          "base_uri": "https://localhost:8080/"
        },
        "id": "aKaevEtMYS-x",
        "outputId": "bcdd99f1-89b0-45b9-9d66-a942fc8f8f9e"
      },
      "execution_count": null,
      "outputs": [
        {
          "output_type": "stream",
          "name": "stdout",
          "text": [
            "Hello, World!\n"
          ]
        }
      ]
    },
    {
      "cell_type": "code",
      "source": [
        "'''Write a Python program that displays your name and age'''\n",
        "name=input(\"Enter your name-\")\n",
        "age=input(\"Enter your age-\")\n",
        "print(\"Name-\",name)\n",
        "print(\"Age-\",age)\n"
      ],
      "metadata": {
        "colab": {
          "base_uri": "https://localhost:8080/"
        },
        "id": "oDPRpFTLYlZ-",
        "outputId": "60f3e031-7dcf-4c00-ca61-fae2a6c0b234"
      },
      "execution_count": null,
      "outputs": [
        {
          "output_type": "stream",
          "name": "stdout",
          "text": [
            "Enter your name-Lohit\n",
            "Enter your age-21\n",
            "Name- Lohit\n",
            "Age- 21\n"
          ]
        }
      ]
    },
    {
      "cell_type": "code",
      "source": [
        "'''Write code to print all the pre-defined keywords in Python using the keyword library'''\n",
        "help('keywords')"
      ],
      "metadata": {
        "colab": {
          "base_uri": "https://localhost:8080/"
        },
        "id": "h8I-FdU3ZOOV",
        "outputId": "229d2be9-5cfd-4660-d11a-1197c70fa297"
      },
      "execution_count": null,
      "outputs": [
        {
          "output_type": "stream",
          "name": "stdout",
          "text": [
            "\n",
            "Here is a list of the Python keywords.  Enter any keyword to get more help.\n",
            "\n",
            "False               class               from                or\n",
            "None                continue            global              pass\n",
            "True                def                 if                  raise\n",
            "and                 del                 import              return\n",
            "as                  elif                in                  try\n",
            "assert              else                is                  while\n",
            "async               except              lambda              with\n",
            "await               finally             nonlocal            yield\n",
            "break               for                 not                 \n",
            "\n"
          ]
        }
      ]
    },
    {
      "cell_type": "code",
      "source": [
        "'''Write a program that checks if a given word is a Python keyword.'''\n",
        "from keyword import *\n",
        "a=input(\"Enter a word:\")\n",
        "if a in (kwlist):\n",
        "  print(a,\"is a keyword.\")\n",
        "else:\n",
        "  print(a,\"is not a keyword.\")\n"
      ],
      "metadata": {
        "colab": {
          "base_uri": "https://localhost:8080/"
        },
        "id": "JgZDQA_UZc0x",
        "outputId": "f7880986-f8a7-41b0-9331-9dd007f33973"
      },
      "execution_count": null,
      "outputs": [
        {
          "output_type": "stream",
          "name": "stdout",
          "text": [
            "Enter a word:function\n",
            "function is not a keyword.\n"
          ]
        }
      ]
    },
    {
      "cell_type": "code",
      "source": [
        "'''Create a list and tuple in Python, and demonstrate how attempting to change an element works differently for each.'''\n",
        "list_=[1,2,3,4,5,6]\n",
        "l[2]=23\n",
        "print(l)\n",
        "tuple_=(1,2,3,4,5,6)\n",
        "t[2]=23\n",
        "print(t)"
      ],
      "metadata": {
        "colab": {
          "base_uri": "https://localhost:8080/",
          "height": 211
        },
        "id": "EUnzsJ_CB3JK",
        "outputId": "67b7e1bb-1c07-4c7a-ca1b-47a8f1f6d707"
      },
      "execution_count": null,
      "outputs": [
        {
          "output_type": "stream",
          "name": "stdout",
          "text": [
            "[1, 2, 23, 4, 5, 6]\n"
          ]
        },
        {
          "output_type": "error",
          "ename": "TypeError",
          "evalue": "'tuple' object does not support item assignment",
          "traceback": [
            "\u001b[0;31m---------------------------------------------------------------------------\u001b[0m",
            "\u001b[0;31mTypeError\u001b[0m                                 Traceback (most recent call last)",
            "\u001b[0;32m<ipython-input-8-343bc03af8a8>\u001b[0m in \u001b[0;36m<cell line: 0>\u001b[0;34m()\u001b[0m\n\u001b[1;32m      4\u001b[0m \u001b[0mprint\u001b[0m\u001b[0;34m(\u001b[0m\u001b[0ml\u001b[0m\u001b[0;34m)\u001b[0m\u001b[0;34m\u001b[0m\u001b[0;34m\u001b[0m\u001b[0m\n\u001b[1;32m      5\u001b[0m \u001b[0mtuple_\u001b[0m\u001b[0;34m=\u001b[0m\u001b[0;34m(\u001b[0m\u001b[0;36m1\u001b[0m\u001b[0;34m,\u001b[0m\u001b[0;36m2\u001b[0m\u001b[0;34m,\u001b[0m\u001b[0;36m3\u001b[0m\u001b[0;34m,\u001b[0m\u001b[0;36m4\u001b[0m\u001b[0;34m,\u001b[0m\u001b[0;36m5\u001b[0m\u001b[0;34m,\u001b[0m\u001b[0;36m6\u001b[0m\u001b[0;34m)\u001b[0m\u001b[0;34m\u001b[0m\u001b[0;34m\u001b[0m\u001b[0m\n\u001b[0;32m----> 6\u001b[0;31m \u001b[0mt\u001b[0m\u001b[0;34m[\u001b[0m\u001b[0;36m2\u001b[0m\u001b[0;34m]\u001b[0m\u001b[0;34m=\u001b[0m\u001b[0;36m23\u001b[0m\u001b[0;34m\u001b[0m\u001b[0;34m\u001b[0m\u001b[0m\n\u001b[0m\u001b[1;32m      7\u001b[0m \u001b[0mprint\u001b[0m\u001b[0;34m(\u001b[0m\u001b[0mt\u001b[0m\u001b[0;34m)\u001b[0m\u001b[0;34m\u001b[0m\u001b[0;34m\u001b[0m\u001b[0m\n",
            "\u001b[0;31mTypeError\u001b[0m: 'tuple' object does not support item assignment"
          ]
        }
      ]
    },
    {
      "cell_type": "code",
      "source": [
        "# Write a function to demonstrate the behavior of mutable and immutable arguments.\n",
        "def func(a):\n",
        "  a[2]=\"change\"\n",
        "  print(a)\n",
        "func([1,2,3,4,5])#do not show any error sice lists are mutable\n",
        "func((1,2,3,4,5))#shows an error since tuple is immutable"
      ],
      "metadata": {
        "id": "HOdovnT1CV6p",
        "colab": {
          "base_uri": "https://localhost:8080/",
          "height": 315
        },
        "outputId": "9e5bdfc6-d6d0-47f9-dc57-b31d9c21ba21"
      },
      "execution_count": null,
      "outputs": [
        {
          "output_type": "stream",
          "name": "stdout",
          "text": [
            "[1, 2, 'change', 4, 5]\n"
          ]
        },
        {
          "output_type": "error",
          "ename": "TypeError",
          "evalue": "'tuple' object does not support item assignment",
          "traceback": [
            "\u001b[0;31m---------------------------------------------------------------------------\u001b[0m",
            "\u001b[0;31mTypeError\u001b[0m                                 Traceback (most recent call last)",
            "\u001b[0;32m<ipython-input-5-e0d5f84d6375>\u001b[0m in \u001b[0;36m<cell line: 0>\u001b[0;34m()\u001b[0m\n\u001b[1;32m      4\u001b[0m   \u001b[0mprint\u001b[0m\u001b[0;34m(\u001b[0m\u001b[0ma\u001b[0m\u001b[0;34m)\u001b[0m\u001b[0;34m\u001b[0m\u001b[0;34m\u001b[0m\u001b[0m\n\u001b[1;32m      5\u001b[0m \u001b[0mfunc\u001b[0m\u001b[0;34m(\u001b[0m\u001b[0;34m[\u001b[0m\u001b[0;36m1\u001b[0m\u001b[0;34m,\u001b[0m\u001b[0;36m2\u001b[0m\u001b[0;34m,\u001b[0m\u001b[0;36m3\u001b[0m\u001b[0;34m,\u001b[0m\u001b[0;36m4\u001b[0m\u001b[0;34m,\u001b[0m\u001b[0;36m5\u001b[0m\u001b[0;34m]\u001b[0m\u001b[0;34m)\u001b[0m\u001b[0;34m\u001b[0m\u001b[0;34m\u001b[0m\u001b[0m\n\u001b[0;32m----> 6\u001b[0;31m \u001b[0mfunc\u001b[0m\u001b[0;34m(\u001b[0m\u001b[0;34m(\u001b[0m\u001b[0;36m1\u001b[0m\u001b[0;34m,\u001b[0m\u001b[0;36m2\u001b[0m\u001b[0;34m,\u001b[0m\u001b[0;36m3\u001b[0m\u001b[0;34m,\u001b[0m\u001b[0;36m4\u001b[0m\u001b[0;34m,\u001b[0m\u001b[0;36m5\u001b[0m\u001b[0;34m)\u001b[0m\u001b[0;34m)\u001b[0m\u001b[0;34m\u001b[0m\u001b[0;34m\u001b[0m\u001b[0m\n\u001b[0m",
            "\u001b[0;32m<ipython-input-5-e0d5f84d6375>\u001b[0m in \u001b[0;36mfunc\u001b[0;34m(a)\u001b[0m\n\u001b[1;32m      1\u001b[0m \u001b[0;31m# Write a function to demonstrate the behavior of mutable and immutable arguments.\u001b[0m\u001b[0;34m\u001b[0m\u001b[0;34m\u001b[0m\u001b[0m\n\u001b[1;32m      2\u001b[0m \u001b[0;32mdef\u001b[0m \u001b[0mfunc\u001b[0m\u001b[0;34m(\u001b[0m\u001b[0ma\u001b[0m\u001b[0;34m)\u001b[0m\u001b[0;34m:\u001b[0m\u001b[0;34m\u001b[0m\u001b[0;34m\u001b[0m\u001b[0m\n\u001b[0;32m----> 3\u001b[0;31m   \u001b[0ma\u001b[0m\u001b[0;34m[\u001b[0m\u001b[0;36m2\u001b[0m\u001b[0;34m]\u001b[0m\u001b[0;34m=\u001b[0m\u001b[0;34m\"change\"\u001b[0m\u001b[0;34m\u001b[0m\u001b[0;34m\u001b[0m\u001b[0m\n\u001b[0m\u001b[1;32m      4\u001b[0m   \u001b[0mprint\u001b[0m\u001b[0;34m(\u001b[0m\u001b[0ma\u001b[0m\u001b[0;34m)\u001b[0m\u001b[0;34m\u001b[0m\u001b[0;34m\u001b[0m\u001b[0m\n\u001b[1;32m      5\u001b[0m \u001b[0mfunc\u001b[0m\u001b[0;34m(\u001b[0m\u001b[0;34m[\u001b[0m\u001b[0;36m1\u001b[0m\u001b[0;34m,\u001b[0m\u001b[0;36m2\u001b[0m\u001b[0;34m,\u001b[0m\u001b[0;36m3\u001b[0m\u001b[0;34m,\u001b[0m\u001b[0;36m4\u001b[0m\u001b[0;34m,\u001b[0m\u001b[0;36m5\u001b[0m\u001b[0;34m]\u001b[0m\u001b[0;34m)\u001b[0m\u001b[0;34m\u001b[0m\u001b[0;34m\u001b[0m\u001b[0m\n",
            "\u001b[0;31mTypeError\u001b[0m: 'tuple' object does not support item assignment"
          ]
        }
      ]
    },
    {
      "cell_type": "code",
      "source": [
        " #Write a program that performs basic arithmetic operations on two user-input numbers.\n",
        " a=int(input('Enter the first number:'))\n",
        " b=int(input('Enter the second number:'))\n",
        "print(f\"{a}+{b}={a+b}\")\n",
        "print(f\"{a}-{b}={a-b}\")\n",
        "print(f\"{a}x{b}={a*b}\")\n",
        "print(f\"{a}/{b}={a/b}\")"
      ],
      "metadata": {
        "colab": {
          "base_uri": "https://localhost:8080/"
        },
        "id": "lE-eXolem3In",
        "outputId": "96493992-7242-442d-f52a-8c32b80185fb"
      },
      "execution_count": null,
      "outputs": [
        {
          "output_type": "stream",
          "name": "stdout",
          "text": [
            "Enter the first number:23\n",
            "Enter the second number:45\n",
            "23+45=68\n",
            "23-45=-22\n",
            "23x45=1035\n",
            "23/45=0.5111111111111111\n"
          ]
        }
      ]
    },
    {
      "cell_type": "code",
      "source": [
        "#Write a program to demonstrate the use of logical operators.\n",
        "a=(input(\"Enter any boolean value:\"))\n",
        "b=(input(\"ENter another boolean value:\"))\n",
        "print(f\"If both a and b are true then and operator will show true :{(a and b)}\")\n",
        "print(f\"If any one a or b are true then or operator will show true :{(a or b)}\")\n",
        "print(f\" Not operator will change true to false and vice-versa :{not a}\")\n"
      ],
      "metadata": {
        "colab": {
          "base_uri": "https://localhost:8080/"
        },
        "id": "iP1JHBS1nvSx",
        "outputId": "10c2b7a2-20a7-4c5c-97a7-50ecd5497f0c"
      },
      "execution_count": null,
      "outputs": [
        {
          "output_type": "stream",
          "name": "stdout",
          "text": [
            "Enter any boolean value:True\n",
            "ENter another boolean value:False\n",
            "If both a and b are true then and operator will show true :False\n",
            "If any one a or b are true then or operator will show true :True\n",
            " Not operator will change true to false and vice-versa :False\n"
          ]
        }
      ]
    },
    {
      "cell_type": "code",
      "source": [
        "# Write a Python program to convert user input from string to integer, float, and boolean types.\n",
        "a=input(\"Enter a string:\")\n",
        "print(int(a))\n",
        "print(float(a))\n",
        "print(bool(a))\n"
      ],
      "metadata": {
        "colab": {
          "base_uri": "https://localhost:8080/"
        },
        "id": "u1f3Ow-fsJQo",
        "outputId": "d8be0dbc-ccb8-4ce5-bc55-b8c1c6cb9fd6"
      },
      "execution_count": 1,
      "outputs": [
        {
          "output_type": "stream",
          "name": "stdout",
          "text": [
            "Enter a string:3567\n",
            "3567\n",
            "3567.0\n",
            "True\n"
          ]
        }
      ]
    },
    {
      "cell_type": "code",
      "source": [
        "# Write code to demonstrate type casting with list elements.\n",
        "list1=[1,2,3.34,4.5,5,\"true\",True]\n",
        "for i in list1:\n",
        "  i=str(i)\n",
        "print(list1)#changed all the elements in list to string"
      ],
      "metadata": {
        "id": "MZvGgFL5sg9F",
        "colab": {
          "base_uri": "https://localhost:8080/"
        },
        "outputId": "ad2aa7a5-6ddd-4296-bc94-e0cb67076f15"
      },
      "execution_count": 9,
      "outputs": [
        {
          "output_type": "stream",
          "name": "stdout",
          "text": [
            "[1, 2, 3.34, 4.5, 5, 'true', True]\n"
          ]
        }
      ]
    },
    {
      "cell_type": "code",
      "source": [
        "#Write a program that checks if a number is positive, negative, or zero.\n",
        "number=float(input(\"Enter a number: \"))\n",
        "if (number>0):print(f\"{number} is positive.\")\n",
        "elif (number<0):print(f\"{number} is negative.\")\n",
        "else :print(f\"{number} is zero.\")\n"
      ],
      "metadata": {
        "colab": {
          "base_uri": "https://localhost:8080/"
        },
        "id": "5Czao6T7G70e",
        "outputId": "c6b3b60a-2572-4000-d221-0432cffdc0ad"
      },
      "execution_count": 13,
      "outputs": [
        {
          "output_type": "stream",
          "name": "stdout",
          "text": [
            "Enter a number: 18\n",
            "18.0 is positive.\n"
          ]
        }
      ]
    },
    {
      "cell_type": "code",
      "source": [
        "#Write a for loop to print numbers from 1 to 10.\n",
        "for i in range(1,11):print(i)"
      ],
      "metadata": {
        "colab": {
          "base_uri": "https://localhost:8080/"
        },
        "id": "v-WAZifPHagL",
        "outputId": "79a2e238-8260-4eb7-8850-196cd4d3caba"
      },
      "execution_count": 18,
      "outputs": [
        {
          "output_type": "stream",
          "name": "stdout",
          "text": [
            "1\n",
            "2\n",
            "3\n",
            "4\n",
            "5\n",
            "6\n",
            "7\n",
            "8\n",
            "9\n",
            "10\n"
          ]
        }
      ]
    },
    {
      "cell_type": "code",
      "source": [
        "#Write a Python program to find the sum of all even numbers between 1 and 50.\n",
        "sum=0\n",
        "for i in range(2,51,2):\n",
        "  sum+=i\n",
        "print(f\"Sum is : {sum}\")"
      ],
      "metadata": {
        "colab": {
          "base_uri": "https://localhost:8080/"
        },
        "id": "W1cJC5oGHrH9",
        "outputId": "f7a76e25-247d-4532-a051-3e36b8ecd854"
      },
      "execution_count": 26,
      "outputs": [
        {
          "output_type": "stream",
          "name": "stdout",
          "text": [
            "Sum is : 650\n"
          ]
        }
      ]
    },
    {
      "cell_type": "code",
      "source": [
        "#Write a program to reverse a string using a while loop.\n",
        "string=input(\"Enter a string:\")\n",
        "i=len(string)\n",
        "reverse=str()\n",
        "while i>0:\n",
        "  reverse+=string[i-1]\n",
        "  i-=1\n",
        "print(reverse)"
      ],
      "metadata": {
        "colab": {
          "base_uri": "https://localhost:8080/"
        },
        "id": "wLTf0C-iIexc",
        "outputId": "398c0ec5-41e9-49b8-e9e1-a638ab8c5987"
      },
      "execution_count": 30,
      "outputs": [
        {
          "output_type": "stream",
          "name": "stdout",
          "text": [
            "Enter a string:Skills\n",
            "sllikS\n"
          ]
        }
      ]
    },
    {
      "cell_type": "code",
      "source": [
        "#Write a Python program to calculate the factorial of a number provided by the user using a while loop.\n",
        "number=int(input(\"Enter a number: \"))\n",
        "prod=1\n",
        "i=number\n",
        "while i>0:\n",
        "  prod*=i\n",
        "  i-=1\n",
        "print(f\"The factorial of {number} is {prod}.\")"
      ],
      "metadata": {
        "colab": {
          "base_uri": "https://localhost:8080/"
        },
        "id": "MscO7jzaJPi5",
        "outputId": "8573024a-a4db-45ef-c601-9d2bf90c3ef0"
      },
      "execution_count": 35,
      "outputs": [
        {
          "output_type": "stream",
          "name": "stdout",
          "text": [
            "Enter a number: 5\n",
            "The factorial of 5 is 120.\n"
          ]
        }
      ]
    }
  ]
}